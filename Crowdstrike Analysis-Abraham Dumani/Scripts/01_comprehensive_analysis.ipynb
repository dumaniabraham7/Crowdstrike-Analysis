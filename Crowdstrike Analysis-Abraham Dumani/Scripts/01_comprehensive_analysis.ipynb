# CrowdStrike Financial Analysis - Complete Data Collection
# File: notebooks/01_comprehensive_analysis.ipynb

# =============================================================================
# CELL 1: Setup and Package Installation
# =============================================================================

import sys
import subprocess
import warnings
warnings.filterwarnings('ignore')

# Install packages if needed
def install_package(package):
    try:
        __import__(package.replace('-', '_'))
        print(f"✅ {package} already available")
    except ImportError:
        print(f"📦 Installing {package}...")
        subprocess.check_call([sys.executable, "-m", "pip", "install", package])
        print(f"✅ {package} installed successfully")

# Required packages
packages = ['pandas', 'numpy', 'matplotlib', 'seaborn', 'plotly', 'yfinance', 'requests', 'beautifulsoup4', 'scikit-learn', 'openpyxl']

for package in packages:
    install_package(package)

print("\n🎉 All packages ready!")
